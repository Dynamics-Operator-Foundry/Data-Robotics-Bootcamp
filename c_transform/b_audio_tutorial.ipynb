{
 "cells": [
  {
   "cell_type": "code",
   "execution_count": 33,
   "metadata": {},
   "outputs": [
    {
     "name": "stdout",
     "output_type": "stream",
     "text": [
      "Conversion complete: song2024.wav\n"
     ]
    }
   ],
   "source": [
    "from pydub import AudioSegment\n",
    "\n",
    "input_file = \"song2024.mp3\"\n",
    "output_file = \"song2024.wav\"\n",
    "\n",
    "audio = AudioSegment.from_mp3(input_file)\n",
    "audio = audio.set_frame_rate(192000)\n",
    "\n",
    "# Export as WAV with a bitrate of 192 kbps\n",
    "audio.export(output_file, format=\"wav\", bitrate=\"192k\")\n",
    "\n",
    "print(f\"Conversion complete: {output_file}\")\n"
   ]
  },
  {
   "cell_type": "code",
   "execution_count": 34,
   "metadata": {},
   "outputs": [
    {
     "name": "stdout",
     "output_type": "stream",
     "text": [
      "Channels: 1\n",
      "Sample Width: 2, no of bytes for the amplitude of sound wave\n",
      "Frame Rate: 192000\n",
      "Frames: 28017\n",
      "Duration: 0.145921875s\n"
     ]
    }
   ],
   "source": [
    "import wave\n",
    "import numpy as np\n",
    "\n",
    "file_path = \"song2024.wav\"\n",
    "wav_file = wave.open(file_path, 'r')\n",
    "\n",
    "n_channels = wav_file.getnchannels()  # Number of channels\n",
    "sample_width = wav_file.getsampwidth()  # Sample width in bytes\n",
    "frame_rate = wav_file.getframerate()  # Sampling rate\n",
    "n_frames = wav_file.getnframes()  # Total number of frames\n",
    "duration = n_frames / frame_rate  # Duration in seconds\n",
    "\n",
    "print(f\"Channels: {n_channels}\\nSample Width: {sample_width}, no of bytes for the amplitude of sound wave\\nFrame Rate: {frame_rate}\\nFrames: {n_frames}\\nDuration: {duration}s\")\n"
   ]
  },
  {
   "cell_type": "code",
   "execution_count": 35,
   "metadata": {},
   "outputs": [],
   "source": [
    "frames = wav_file.readframes(n_frames)\n",
    "audio_data = np.frombuffer(frames, dtype=np.int16)  # Assumes 16-bit audio"
   ]
  },
  {
   "cell_type": "code",
   "execution_count": 36,
   "metadata": {},
   "outputs": [
    {
     "name": "stdout",
     "output_type": "stream",
     "text": [
      "I have this many frames 28017 per channel.\n",
      "The length of the audio is 0.145921875 s.\n"
     ]
    }
   ],
   "source": [
    "# Reshape into (n_frames, n_channels) for stereo\n",
    "audio_data = audio_data.reshape(-1, n_channels)\n",
    "\n",
    "# Separate into two channels\n",
    "audio_data_0 = audio_data[:, 0]  # Left channel\n",
    "# audio_data_1 = audio_data[:, 1]  # Right channel\n",
    "\n",
    "# print(audio_data_0.shape)\n",
    "print(f\"I have this many frames {audio_data_0.shape[0]} per channel.\")\n",
    "print(f\"The length of the audio is {audio_data_0.shape[0]/frame_rate} s.\")"
   ]
  },
  {
   "cell_type": "code",
   "execution_count": 37,
   "metadata": {},
   "outputs": [],
   "source": [
    "audio_data_lala = []\n",
    "for i, data in enumerate(audio_data_0):\n",
    "    audio_data_lala.append(data)"
   ]
  },
  {
   "cell_type": "code",
   "execution_count": 38,
   "metadata": {},
   "outputs": [
    {
     "name": "stdout",
     "output_type": "stream",
     "text": [
      "28017\n"
     ]
    }
   ],
   "source": [
    "print(len(audio_data_lala))"
   ]
  },
  {
   "cell_type": "code",
   "execution_count": 39,
   "metadata": {},
   "outputs": [
    {
     "name": "stdout",
     "output_type": "stream",
     "text": [
      "(28017,)\n",
      "192000\n",
      "Channel 1 saved to voice_original.wav\n"
     ]
    }
   ],
   "source": [
    "import wave\n",
    "import numpy as np\n",
    "from scipy.io.wavfile import write\n",
    "\n",
    "audio_data_lala = np.array(audio_data_lala, dtype=np.int16)\n",
    "print(audio_data_lala.shape)\n",
    "\n",
    "sample_rate = frame_rate\n",
    "print(sample_rate)\n",
    "\n",
    "output_path = \"voice_original.wav\"\n",
    "write(output_path, int(sample_rate), audio_data_lala)\n",
    "\n",
    "print(f\"Channel 1 saved to {output_path}\")\n"
   ]
  }
 ],
 "metadata": {
  "kernelspec": {
   "display_name": "data_bootcamp",
   "language": "python",
   "name": "python3"
  },
  "language_info": {
   "codemirror_mode": {
    "name": "ipython",
    "version": 3
   },
   "file_extension": ".py",
   "mimetype": "text/x-python",
   "name": "python",
   "nbconvert_exporter": "python",
   "pygments_lexer": "ipython3",
   "version": "3.9.7"
  }
 },
 "nbformat": 4,
 "nbformat_minor": 2
}
